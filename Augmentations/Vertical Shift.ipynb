{
 "cells": [
  {
   "cell_type": "code",
   "execution_count": 3,
   "id": "93b92076",
   "metadata": {},
   "outputs": [],
   "source": [
    "import cv2\n",
    "import os\n",
    "import glob\n",
    "import numpy as np\n",
    "\n",
    "# Get all mp4 files in the current directory\n",
    "videos = glob.glob(\"*.mp4\")\n",
    "\n",
    "# Loop through the videos\n",
    "for video in videos:\n",
    "    # Open the video using OpenCV\n",
    "    cap = cv2.VideoCapture(video)\n",
    "    # Get the video frame width and height\n",
    "    frame_width = int(cap.get(3))\n",
    "    frame_height = int(cap.get(4))\n",
    "\n",
    "    frames = []\n",
    "    # Loop through the frames\n",
    "    while True:\n",
    "        ret, frame = cap.read()\n",
    "        if not ret:\n",
    "            break\n",
    "        frames.append(frame)\n",
    "    # check if the video is open successfully\n",
    "    if cap.isOpened():\n",
    "        for i in range(len(frames)):\n",
    "            # Define the vertical shift value (in pixels)\n",
    "            shift_value = 350\n",
    "            # Create the transformation matrix\n",
    "            M = np.float32([[1,0,0], [0,1,shift_value]])\n",
    "            # Apply the transformation\n",
    "            frames[i] = cv2.warpAffine(frames[i], M, (frame_width, frame_height))\n",
    "        # Define the codec and create a VideoWriter object\n",
    "        fourcc = cv2.VideoWriter_fourcc(*'mp4v')\n",
    "        # Get the name of the video file and change the extension to .mp4\n",
    "        mp4_name = os.path.splitext(video)[0] + '_vertical_shift.mp4'\n",
    "        out = cv2.VideoWriter(mp4_name, fourcc, 20.0, (frame_width, frame_height))\n",
    "        # Write the shifted frames to the output video\n",
    "        for frame in frames:\n",
    "            out.write(frame)\n",
    "        # Release the VideoWriter object\n",
    "        out.release()\n",
    "    else:\n",
    "        print(\"Video not opened successfully: \", video)\n",
    "        # Release the VideoCapture\n",
    "    cap.release()\n"
   ]
  },
  {
   "cell_type": "code",
   "execution_count": null,
   "id": "51f1966a",
   "metadata": {},
   "outputs": [],
   "source": []
  }
 ],
 "metadata": {
  "kernelspec": {
   "display_name": "Python 3 (ipykernel)",
   "language": "python",
   "name": "python3"
  },
  "language_info": {
   "codemirror_mode": {
    "name": "ipython",
    "version": 3
   },
   "file_extension": ".py",
   "mimetype": "text/x-python",
   "name": "python",
   "nbconvert_exporter": "python",
   "pygments_lexer": "ipython3",
   "version": "3.9.13"
  }
 },
 "nbformat": 4,
 "nbformat_minor": 5
}
