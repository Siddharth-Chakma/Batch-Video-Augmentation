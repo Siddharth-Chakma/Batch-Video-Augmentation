{
 "cells": [
  {
   "cell_type": "code",
   "execution_count": 8,
   "id": "f3494739",
   "metadata": {},
   "outputs": [],
   "source": [
    "import cv2\n",
    "import os\n",
    "import glob\n",
    "import numpy as np\n",
    "\n",
    "# Get all mp4 files in the current directory\n",
    "videos = glob.glob(\"*.mp4\")\n",
    "\n",
    "# Loop through the videos\n",
    "for video in videos:\n",
    "    # Open the video using OpenCV\n",
    "    cap = cv2.VideoCapture(video)\n",
    "    # Get the video frame width and height\n",
    "    frame_width = int(cap.get(3))\n",
    "    frame_height = int(cap.get(4))\n",
    "\n",
    "    frames = []\n",
    "    # Loop through the frames\n",
    "    while True:\n",
    "        ret, frame = cap.read()\n",
    "        if not ret:\n",
    "            break\n",
    "        frames.append(frame)\n",
    "    # check if the video is open successfully\n",
    "    if cap.isOpened():\n",
    "        for i in range(len(frames)):\n",
    "            # Define the brightness value (in range -1 to 1)\n",
    "            brightness_value = 0.5\n",
    "            # Convert the frame to the HSV color space\n",
    "            hsv = cv2.cvtColor(frames[i], cv2.COLOR_BGR2HSV)\n",
    "            # Split the channels\n",
    "            h, s, v = cv2.split(hsv)\n",
    "            # Add the brightness value to the V channel\n",
    "            v = np.clip(v+255*brightness_value, 0, 255).astype('uint8')\n",
    "            # Merge the channels back\n",
    "            hsv = cv2.merge((h, s, v))\n",
    "            # Convert the frame back to the BGR color space\n",
    "            frames[i] = cv2.cvtColor(hsv, cv2.COLOR_HSV2BGR)\n",
    "        # Define the codec and create a VideoWriter object\n",
    "       \n",
    "        fourcc = cv2.VideoWriter_fourcc(*'mp4v')\n",
    "        # Get the name of the video file and change the extension to .mp4\n",
    "        mp4_name = os.path.splitext(video)[0] + '_0.5brightness.mp4'\n",
    "        out = cv2.VideoWriter(mp4_name, fourcc, 20.0, (frame_width, frame_height))\n",
    "        # Write the brightened frames to the output video\n",
    "        for frame in frames:\n",
    "            out.write(frame)\n",
    "        # Release the VideoWriter object\n",
    "        out.release()\n",
    "    else:\n",
    "        print(\"Video not opened successfully: \", video)\n",
    "    # Release the VideoCapture\n",
    "    cap.release()\n"
   ]
  },
  {
   "cell_type": "code",
   "execution_count": null,
   "id": "e6194222",
   "metadata": {},
   "outputs": [],
   "source": []
  }
 ],
 "metadata": {
  "kernelspec": {
   "display_name": "Python 3 (ipykernel)",
   "language": "python",
   "name": "python3"
  },
  "language_info": {
   "codemirror_mode": {
    "name": "ipython",
    "version": 3
   },
   "file_extension": ".py",
   "mimetype": "text/x-python",
   "name": "python",
   "nbconvert_exporter": "python",
   "pygments_lexer": "ipython3",
   "version": "3.9.13"
  }
 },
 "nbformat": 4,
 "nbformat_minor": 5
}
